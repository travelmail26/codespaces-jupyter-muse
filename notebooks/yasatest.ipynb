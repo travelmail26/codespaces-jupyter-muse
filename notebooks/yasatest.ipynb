{
 "cells": [
  {
   "cell_type": "code",
   "execution_count": 1,
   "metadata": {},
   "outputs": [
    {
     "name": "stdout",
     "output_type": "stream",
     "text": [
      "Collecting numpy==1.23.1\n",
      "  Using cached numpy-1.23.1-cp310-cp310-manylinux_2_17_x86_64.manylinux2014_x86_64.whl (17.0 MB)\n",
      "Installing collected packages: numpy\n",
      "  Attempting uninstall: numpy\n",
      "    Found existing installation: numpy 1.22.4\n",
      "    Uninstalling numpy-1.22.4:\n",
      "      Successfully uninstalled numpy-1.22.4\n",
      "\u001b[33m  WARNING: The scripts f2py, f2py3 and f2py3.10 are installed in '/usr/local/python/3.10.4/bin' which is not on PATH.\n",
      "  Consider adding this directory to PATH or, if you prefer to suppress this warning, use --no-warn-script-location.\u001b[0m\u001b[33m\n",
      "\u001b[0m\u001b[31mERROR: pip's dependency resolver does not currently take into account all the packages that are installed. This behaviour is the source of the following dependency conflicts.\n",
      "numba 0.56.0 requires numpy<1.23,>=1.18, but you have numpy 1.23.1 which is incompatible.\u001b[0m\u001b[31m\n",
      "\u001b[0mSuccessfully installed numpy-1.23.1\n",
      "\n",
      "\u001b[1m[\u001b[0m\u001b[34;49mnotice\u001b[0m\u001b[1;39;49m]\u001b[0m\u001b[39;49m A new release of pip is available: \u001b[0m\u001b[31;49m23.1\u001b[0m\u001b[39;49m -> \u001b[0m\u001b[32;49m23.1.2\u001b[0m\n",
      "\u001b[1m[\u001b[0m\u001b[34;49mnotice\u001b[0m\u001b[1;39;49m]\u001b[0m\u001b[39;49m To update, run: \u001b[0m\u001b[32;49mpython -m pip install --upgrade pip\u001b[0m\n",
      "Requirement already satisfied: numba<=0.56.0 in /usr/local/python/3.10.4/lib/python3.10/site-packages (0.56.0)\n",
      "Requirement already satisfied: llvmlite<0.40,>=0.39.0dev0 in /usr/local/python/3.10.4/lib/python3.10/site-packages (from numba<=0.56.0) (0.39.1)\n",
      "Collecting numpy<1.23,>=1.18 (from numba<=0.56.0)\n",
      "  Using cached numpy-1.22.4-cp310-cp310-manylinux_2_17_x86_64.manylinux2014_x86_64.whl (16.8 MB)\n",
      "Requirement already satisfied: setuptools in /home/codespace/.local/lib/python3.10/site-packages (from numba<=0.56.0) (67.6.1)\n",
      "Installing collected packages: numpy\n",
      "  Attempting uninstall: numpy\n",
      "    Found existing installation: numpy 1.23.1\n",
      "    Uninstalling numpy-1.23.1:\n",
      "      Successfully uninstalled numpy-1.23.1\n",
      "\u001b[33m  WARNING: The scripts f2py, f2py3 and f2py3.10 are installed in '/usr/local/python/3.10.4/bin' which is not on PATH.\n",
      "  Consider adding this directory to PATH or, if you prefer to suppress this warning, use --no-warn-script-location.\u001b[0m\u001b[33m\n",
      "\u001b[0mSuccessfully installed numpy-1.22.4\n",
      "\n",
      "\u001b[1m[\u001b[0m\u001b[34;49mnotice\u001b[0m\u001b[1;39;49m]\u001b[0m\u001b[39;49m A new release of pip is available: \u001b[0m\u001b[31;49m23.1\u001b[0m\u001b[39;49m -> \u001b[0m\u001b[32;49m23.1.2\u001b[0m\n",
      "\u001b[1m[\u001b[0m\u001b[34;49mnotice\u001b[0m\u001b[1;39;49m]\u001b[0m\u001b[39;49m To update, run: \u001b[0m\u001b[32;49mpython -m pip install --upgrade pip\u001b[0m\n",
      "Requirement already satisfied: mne in /usr/local/python/3.10.4/lib/python3.10/site-packages (1.3.1)\n",
      "Requirement already satisfied: numpy>=1.15.4 in /usr/local/python/3.10.4/lib/python3.10/site-packages (from mne) (1.22.4)\n",
      "Requirement already satisfied: scipy>=1.1.0 in /home/codespace/.local/lib/python3.10/site-packages (from mne) (1.10.1)\n",
      "Requirement already satisfied: matplotlib in /usr/local/python/3.10.4/lib/python3.10/site-packages (from mne) (3.7.0)\n",
      "Requirement already satisfied: tqdm in /usr/local/python/3.10.4/lib/python3.10/site-packages (from mne) (4.64.0)\n",
      "Requirement already satisfied: pooch>=1.5 in /usr/local/python/3.10.4/lib/python3.10/site-packages (from mne) (1.7.0)\n",
      "Requirement already satisfied: decorator in /home/codespace/.local/lib/python3.10/site-packages (from mne) (5.1.1)\n",
      "Requirement already satisfied: packaging in /home/codespace/.local/lib/python3.10/site-packages (from mne) (23.0)\n",
      "Requirement already satisfied: jinja2 in /home/codespace/.local/lib/python3.10/site-packages (from mne) (3.1.2)\n",
      "Requirement already satisfied: platformdirs>=2.5.0 in /home/codespace/.local/lib/python3.10/site-packages (from pooch>=1.5->mne) (3.2.0)\n",
      "Requirement already satisfied: requests>=2.19.0 in /home/codespace/.local/lib/python3.10/site-packages (from pooch>=1.5->mne) (2.28.2)\n",
      "Requirement already satisfied: MarkupSafe>=2.0 in /home/codespace/.local/lib/python3.10/site-packages (from jinja2->mne) (2.1.2)\n",
      "Requirement already satisfied: contourpy>=1.0.1 in /home/codespace/.local/lib/python3.10/site-packages (from matplotlib->mne) (1.0.7)\n",
      "Requirement already satisfied: cycler>=0.10 in /home/codespace/.local/lib/python3.10/site-packages (from matplotlib->mne) (0.11.0)\n",
      "Requirement already satisfied: fonttools>=4.22.0 in /home/codespace/.local/lib/python3.10/site-packages (from matplotlib->mne) (4.39.3)\n",
      "Requirement already satisfied: kiwisolver>=1.0.1 in /home/codespace/.local/lib/python3.10/site-packages (from matplotlib->mne) (1.4.4)\n",
      "Requirement already satisfied: pillow>=6.2.0 in /home/codespace/.local/lib/python3.10/site-packages (from matplotlib->mne) (9.5.0)\n",
      "Requirement already satisfied: pyparsing>=2.3.1 in /home/codespace/.local/lib/python3.10/site-packages (from matplotlib->mne) (3.0.9)\n",
      "Requirement already satisfied: python-dateutil>=2.7 in /home/codespace/.local/lib/python3.10/site-packages (from matplotlib->mne) (2.8.2)\n",
      "Requirement already satisfied: six>=1.5 in /home/codespace/.local/lib/python3.10/site-packages (from python-dateutil>=2.7->matplotlib->mne) (1.16.0)\n",
      "Requirement already satisfied: charset-normalizer<4,>=2 in /home/codespace/.local/lib/python3.10/site-packages (from requests>=2.19.0->pooch>=1.5->mne) (3.1.0)\n",
      "Requirement already satisfied: idna<4,>=2.5 in /home/codespace/.local/lib/python3.10/site-packages (from requests>=2.19.0->pooch>=1.5->mne) (3.4)\n",
      "Requirement already satisfied: urllib3<1.27,>=1.21.1 in /home/codespace/.local/lib/python3.10/site-packages (from requests>=2.19.0->pooch>=1.5->mne) (1.26.15)\n",
      "Requirement already satisfied: certifi>=2017.4.17 in /home/codespace/.local/lib/python3.10/site-packages (from requests>=2.19.0->pooch>=1.5->mne) (2022.12.7)\n",
      "\n",
      "\u001b[1m[\u001b[0m\u001b[34;49mnotice\u001b[0m\u001b[1;39;49m]\u001b[0m\u001b[39;49m A new release of pip is available: \u001b[0m\u001b[31;49m23.1\u001b[0m\u001b[39;49m -> \u001b[0m\u001b[32;49m23.1.2\u001b[0m\n",
      "\u001b[1m[\u001b[0m\u001b[34;49mnotice\u001b[0m\u001b[1;39;49m]\u001b[0m\u001b[39;49m To update, run: \u001b[0m\u001b[32;49mpython -m pip install --upgrade pip\u001b[0m\n"
     ]
    }
   ],
   "source": [
    "import pandas as pd\n",
    "\n",
    "!pip install numpy==1.23.1\n",
    "!pip install \"numba<=0.56.0\"\n",
    "!pip install mne\n",
    "\n",
    "\n",
    "\n",
    "import yasa"
   ]
  },
  {
   "cell_type": "code",
   "execution_count": 4,
   "metadata": {},
   "outputs": [
    {
     "name": "stdout",
     "output_type": "stream",
     "text": [
      "Requirement already satisfied: mne in /usr/local/python/3.10.4/lib/python3.10/site-packages (1.3.1)\n",
      "Requirement already satisfied: numpy>=1.15.4 in /usr/local/python/3.10.4/lib/python3.10/site-packages (from mne) (1.22.4)\n",
      "Requirement already satisfied: scipy>=1.1.0 in /home/codespace/.local/lib/python3.10/site-packages (from mne) (1.10.1)\n",
      "Requirement already satisfied: matplotlib in /usr/local/python/3.10.4/lib/python3.10/site-packages (from mne) (3.7.0)\n",
      "Requirement already satisfied: tqdm in /usr/local/python/3.10.4/lib/python3.10/site-packages (from mne) (4.64.0)\n",
      "Requirement already satisfied: pooch>=1.5 in /usr/local/python/3.10.4/lib/python3.10/site-packages (from mne) (1.7.0)\n",
      "Requirement already satisfied: decorator in /home/codespace/.local/lib/python3.10/site-packages (from mne) (5.1.1)\n",
      "Requirement already satisfied: packaging in /home/codespace/.local/lib/python3.10/site-packages (from mne) (23.0)\n",
      "Requirement already satisfied: jinja2 in /home/codespace/.local/lib/python3.10/site-packages (from mne) (3.1.2)\n",
      "Requirement already satisfied: platformdirs>=2.5.0 in /home/codespace/.local/lib/python3.10/site-packages (from pooch>=1.5->mne) (3.2.0)\n",
      "Requirement already satisfied: requests>=2.19.0 in /home/codespace/.local/lib/python3.10/site-packages (from pooch>=1.5->mne) (2.28.2)\n",
      "Requirement already satisfied: MarkupSafe>=2.0 in /home/codespace/.local/lib/python3.10/site-packages (from jinja2->mne) (2.1.2)\n",
      "Requirement already satisfied: contourpy>=1.0.1 in /home/codespace/.local/lib/python3.10/site-packages (from matplotlib->mne) (1.0.7)\n",
      "Requirement already satisfied: cycler>=0.10 in /home/codespace/.local/lib/python3.10/site-packages (from matplotlib->mne) (0.11.0)\n",
      "Requirement already satisfied: fonttools>=4.22.0 in /home/codespace/.local/lib/python3.10/site-packages (from matplotlib->mne) (4.39.3)\n",
      "Requirement already satisfied: kiwisolver>=1.0.1 in /home/codespace/.local/lib/python3.10/site-packages (from matplotlib->mne) (1.4.4)\n",
      "Requirement already satisfied: pillow>=6.2.0 in /home/codespace/.local/lib/python3.10/site-packages (from matplotlib->mne) (9.5.0)\n",
      "Requirement already satisfied: pyparsing>=2.3.1 in /home/codespace/.local/lib/python3.10/site-packages (from matplotlib->mne) (3.0.9)\n",
      "Requirement already satisfied: python-dateutil>=2.7 in /home/codespace/.local/lib/python3.10/site-packages (from matplotlib->mne) (2.8.2)\n",
      "Requirement already satisfied: six>=1.5 in /home/codespace/.local/lib/python3.10/site-packages (from python-dateutil>=2.7->matplotlib->mne) (1.16.0)\n",
      "Requirement already satisfied: charset-normalizer<4,>=2 in /home/codespace/.local/lib/python3.10/site-packages (from requests>=2.19.0->pooch>=1.5->mne) (3.1.0)\n",
      "Requirement already satisfied: idna<4,>=2.5 in /home/codespace/.local/lib/python3.10/site-packages (from requests>=2.19.0->pooch>=1.5->mne) (3.4)\n",
      "Requirement already satisfied: urllib3<1.27,>=1.21.1 in /home/codespace/.local/lib/python3.10/site-packages (from requests>=2.19.0->pooch>=1.5->mne) (1.26.15)\n",
      "Requirement already satisfied: certifi>=2017.4.17 in /home/codespace/.local/lib/python3.10/site-packages (from requests>=2.19.0->pooch>=1.5->mne) (2022.12.7)\n"
     ]
    }
   ],
   "source": []
  },
  {
   "cell_type": "code",
   "execution_count": 27,
   "metadata": {},
   "outputs": [
    {
     "name": "stdout",
     "output_type": "stream",
     "text": [
      "                   Time   F8\n",
      "0   2021-09-01 00:00:00  0.1\n",
      "1   2021-09-01 00:00:01  0.2\n",
      "2   2021-09-01 00:00:02  0.3\n",
      "3   2021-09-01 00:00:03  0.4\n",
      "4   2021-09-01 00:00:04  0.5\n",
      "5   2021-09-01 00:00:05  0.6\n",
      "6   2021-09-01 00:00:06  0.7\n",
      "7   2021-09-01 00:00:07  0.8\n",
      "8   2021-09-01 00:00:08  0.9\n",
      "9   2021-09-01 00:00:09  1.0\n",
      "10  2021-09-01 00:00:10  1.1\n",
      "11  2021-09-01 00:00:11  1.2\n",
      "12  2021-09-01 00:00:12  1.3\n",
      "13  2021-09-01 00:00:13  1.4\n",
      "14  2021-09-01 00:00:14  1.5\n",
      "15  2021-09-01 00:00:15  1.6\n",
      "16  2021-09-01 00:00:16  1.7\n",
      "17  2021-09-01 00:00:17  1.8\n",
      "18  2021-09-01 00:00:18  1.9\n",
      "19  2021-09-01 00:10:19  2.0\n"
     ]
    }
   ],
   "source": [
    "#alright copilot, i need you to write functions that do the following. the goal is to create to file that can be used by the YASA package to catagorize sleep data\n",
    "# generates a mock dataframe of sleep data that includes values, time, an one channel called f8\n",
    "# store that dataframe in a pandas dataframe then turn it into a csv file\n",
    "# then transfer csv file to the MNE package in a raw array\n",
    "# then install and use the YASA package to catagorize the data into sleep stages\n",
    "\n",
    "# Path: Untitled-1.ipynb\n",
    "import pandas as pd\n",
    "\n",
    "#write code that reads in data from a csv file and stores it in a dataframe\n",
    "\n",
    "import pandas as pd\n",
    "\n",
    "#the sleep data must include 20 rows and 3 columns, value, time, and f8, which is the channel name\n",
    "\n",
    "#the time value must be a time date object. please fix\n",
    "\n",
    "# the time object must be in secondds and hours. please fix\n",
    "\n",
    "#rewrite the data object to include the corrected timedate object\n",
    "\n",
    "data = {'Time': ['2021-09-01 00:00:00', '2021-09-01 00:00:01', '2021-09-01 00:00:02', '2021-09-01 00:00:03', '2021-09-01 00:00:04', '2021-09-01 00:00:05', '2021-09-01 00:00:06', '2021-09-01 00:00:07', '2021-09-01 00:00:08', '2021-09-01 00:00:09', '2021-09-01 00:00:10', '2021-09-01 00:00:11', '2021-09-01 00:00:12', '2021-09-01 00:00:13', '2021-09-01 00:00:14', '2021-09-01 00:00:15', '2021-09-01 00:00:16', '2021-09-01 00:00:17', '2021-09-01 00:00:18', '2021-09-01 00:00:19'],\n",
    "        'F8': [0.1, 0.2, 0.3, 0.4, 0.5, 0.6, 0.7, 0.8, 0.9, 1.0, 1.1, 1.2, 1.3, 1.4, 1.5, 1.6, 1.7, 1.8, 1.9, 2.0]}\n",
    "mock_df = pd.DataFrame(data)\n",
    "print(mock_df)\n",
    "\n",
    "#write code that turns the dataframe into a csv file. change mock_df into a csv file\n",
    "\n",
    "\n",
    "\n",
    "mock_df['Time'] = pd.to_datetime(mock_df['Time']).astype(np.int64)\n",
    "\n",
    "\n",
    "\n",
    "\n",
    "\n",
    "\n"
   ]
  },
  {
   "cell_type": "code",
   "execution_count": 7,
   "metadata": {},
   "outputs": [
    {
     "ename": "ValueError",
     "evalue": "len(data) (20) does not match len(info[\"ch_names\"]) (2)",
     "output_type": "error",
     "traceback": [
      "\u001b[0;31m---------------------------------------------------------------------------\u001b[0m",
      "\u001b[0;31mValueError\u001b[0m                                Traceback (most recent call last)",
      "Cell \u001b[0;32mIn[7], line 36\u001b[0m\n\u001b[1;32m     32\u001b[0m     mne_raw \u001b[39m=\u001b[39m mne\u001b[39m.\u001b[39mio\u001b[39m.\u001b[39mRawArray(raw, info)\n\u001b[1;32m     33\u001b[0m     \u001b[39mreturn\u001b[39;00m mne_raw\n\u001b[0;32m---> 36\u001b[0m csv_to_mne(\u001b[39m'\u001b[39;49m\u001b[39mmock_df.csv\u001b[39;49m\u001b[39m'\u001b[39;49m)\n",
      "Cell \u001b[0;32mIn[7], line 32\u001b[0m, in \u001b[0;36mcsv_to_mne\u001b[0;34m(csv_file)\u001b[0m\n\u001b[1;32m     28\u001b[0m raw \u001b[39m=\u001b[39m np\u001b[39m.\u001b[39marray(df)\n\u001b[1;32m     29\u001b[0m info \u001b[39m=\u001b[39m mne\u001b[39m.\u001b[39mcreate_info(ch_names\u001b[39m=\u001b[39m[\u001b[39m'\u001b[39m\u001b[39mF8\u001b[39m\u001b[39m'\u001b[39m,\u001b[39m'\u001b[39m\u001b[39mTime\u001b[39m\u001b[39m'\u001b[39m ], \n\u001b[1;32m     30\u001b[0m                        sfreq\u001b[39m=\u001b[39m\u001b[39m1\u001b[39m, \n\u001b[1;32m     31\u001b[0m                        ch_types\u001b[39m=\u001b[39m[\u001b[39m'\u001b[39m\u001b[39meeg\u001b[39m\u001b[39m'\u001b[39m, \u001b[39m'\u001b[39m\u001b[39mmisc\u001b[39m\u001b[39m'\u001b[39m])\n\u001b[0;32m---> 32\u001b[0m mne_raw \u001b[39m=\u001b[39m mne\u001b[39m.\u001b[39;49mio\u001b[39m.\u001b[39;49mRawArray(raw, info)\n\u001b[1;32m     33\u001b[0m \u001b[39mreturn\u001b[39;00m mne_raw\n",
      "File \u001b[0;32m<decorator-gen-239>:12\u001b[0m, in \u001b[0;36m__init__\u001b[0;34m(self, data, info, first_samp, copy, verbose)\u001b[0m\n",
      "File \u001b[0;32m~/.python/current/lib/python3.10/site-packages/mne/io/array/array.py:65\u001b[0m, in \u001b[0;36mRawArray.__init__\u001b[0;34m(self, data, info, first_samp, copy, verbose)\u001b[0m\n\u001b[1;32m     62\u001b[0m     \u001b[39mraise\u001b[39;00m \u001b[39mValueError\u001b[39;00m(\u001b[39m'\u001b[39m\u001b[39mData must be a 2D array of shape (n_channels, \u001b[39m\u001b[39m'\u001b[39m\n\u001b[1;32m     63\u001b[0m                      \u001b[39m'\u001b[39m\u001b[39mn_samples), got shape \u001b[39m\u001b[39m%s\u001b[39;00m\u001b[39m'\u001b[39m \u001b[39m%\u001b[39m (data\u001b[39m.\u001b[39mshape,))\n\u001b[1;32m     64\u001b[0m \u001b[39mif\u001b[39;00m \u001b[39mlen\u001b[39m(data) \u001b[39m!=\u001b[39m \u001b[39mlen\u001b[39m(info[\u001b[39m'\u001b[39m\u001b[39mch_names\u001b[39m\u001b[39m'\u001b[39m]):\n\u001b[0;32m---> 65\u001b[0m     \u001b[39mraise\u001b[39;00m \u001b[39mValueError\u001b[39;00m(\u001b[39m'\u001b[39m\u001b[39mlen(data) (\u001b[39m\u001b[39m%s\u001b[39;00m\u001b[39m) does not match \u001b[39m\u001b[39m'\u001b[39m\n\u001b[1;32m     66\u001b[0m                      \u001b[39m'\u001b[39m\u001b[39mlen(info[\u001b[39m\u001b[39m\"\u001b[39m\u001b[39mch_names\u001b[39m\u001b[39m\"\u001b[39m\u001b[39m]) (\u001b[39m\u001b[39m%s\u001b[39;00m\u001b[39m)\u001b[39m\u001b[39m'\u001b[39m\n\u001b[1;32m     67\u001b[0m                      \u001b[39m%\u001b[39m (\u001b[39mlen\u001b[39m(data), \u001b[39mlen\u001b[39m(info[\u001b[39m'\u001b[39m\u001b[39mch_names\u001b[39m\u001b[39m'\u001b[39m])))\n\u001b[1;32m     68\u001b[0m \u001b[39massert\u001b[39;00m \u001b[39mlen\u001b[39m(info[\u001b[39m'\u001b[39m\u001b[39mch_names\u001b[39m\u001b[39m'\u001b[39m]) \u001b[39m==\u001b[39m info[\u001b[39m'\u001b[39m\u001b[39mnchan\u001b[39m\u001b[39m'\u001b[39m]\n\u001b[1;32m     69\u001b[0m \u001b[39mif\u001b[39;00m copy \u001b[39min\u001b[39;00m (\u001b[39m'\u001b[39m\u001b[39mauto\u001b[39m\u001b[39m'\u001b[39m, \u001b[39m'\u001b[39m\u001b[39minfo\u001b[39m\u001b[39m'\u001b[39m, \u001b[39m'\u001b[39m\u001b[39mboth\u001b[39m\u001b[39m'\u001b[39m):\n",
      "\u001b[0;31mValueError\u001b[0m: len(data) (20) does not match len(info[\"ch_names\"]) (2)"
     ]
    }
   ],
   "source": [
    "#write code that turns mock df into a MNE raw array\n",
    "\n",
    "import numpy as np\n",
    "\n",
    "## write a function that turns a dataframe into a raw array for the MNE package\n",
    "\n",
    "def df_to_raw(df):\n",
    "    raw = np.array(df)\n",
    "    return raw\n",
    "\n",
    "#write code that turns the raw array into a mne.io.RawArray object\n",
    "\n",
    "import mne\n",
    "\n",
    "## write a function that turns a raw array into a mne.io.RawArray object\n",
    "\n",
    "# def raw_to_mne(raw):\n",
    "#     info = mne.create_info(ch_names=['Value', 'Time', 'F8'], \n",
    "#                            sfreq=1, \n",
    "#                            ch_types=['float', 'str', 'float'])\n",
    "#     mne_raw = mne.io.RawArray(raw, info)\n",
    "#     return mne_raw\n",
    "\n",
    "#write code that reads in the data from the csv file and stores it in a mne.io.RawArray object\n",
    "\n",
    "def csv_to_mne(csv_file):\n",
    "    df = pd.read_csv(csv_file)\n",
    "    raw = np.array(df)\n",
    "    info = mne.create_info(ch_names=['F8','Time' ], \n",
    "                           sfreq=1, \n",
    "                           ch_types=['eeg', 'misc'])\n",
    "    mne_raw = mne.io.RawArray(raw, info)\n",
    "    return mne_raw\n",
    "\n",
    "\n",
    "csv_to_mne('mock_df.csv')\n",
    "\n",
    "\n"
   ]
  },
  {
   "cell_type": "code",
   "execution_count": 21,
   "metadata": {},
   "outputs": [],
   "source": [
    "dft = mock_df.transpose().to_numpy()\n",
    "\n",
    "#write code to uninstall numpy\n",
    "\n",
    "import yasa"
   ]
  },
  {
   "cell_type": "code",
   "execution_count": 3,
   "metadata": {},
   "outputs": [
    {
     "ename": "SystemError",
     "evalue": "initialization of _internal failed without raising an exception",
     "output_type": "error",
     "traceback": [
      "\u001b[0;31m---------------------------------------------------------------------------\u001b[0m",
      "\u001b[0;31mSystemError\u001b[0m                               Traceback (most recent call last)",
      "Cell \u001b[0;32mIn[3], line 3\u001b[0m\n\u001b[1;32m      1\u001b[0m \u001b[39m#write code that reads the MNE object into the YASA package\u001b[39;00m\n\u001b[0;32m----> 3\u001b[0m \u001b[39mimport\u001b[39;00m \u001b[39myasa\u001b[39;00m\n\u001b[1;32m      5\u001b[0m \u001b[39m## write a function that reads the MNE object into the YASA package\u001b[39;00m\n\u001b[1;32m      7\u001b[0m \u001b[39mdef\u001b[39;00m \u001b[39mmne_to_yasa\u001b[39m(mne_raw):\n",
      "File \u001b[0;32m~/.python/current/lib/python3.10/site-packages/yasa/__init__.py:2\u001b[0m\n\u001b[1;32m      1\u001b[0m \u001b[39mimport\u001b[39;00m \u001b[39mlogging\u001b[39;00m\n\u001b[0;32m----> 2\u001b[0m \u001b[39mfrom\u001b[39;00m \u001b[39m.\u001b[39;00m\u001b[39mdetection\u001b[39;00m \u001b[39mimport\u001b[39;00m \u001b[39m*\u001b[39m\n\u001b[1;32m      3\u001b[0m \u001b[39mfrom\u001b[39;00m \u001b[39m.\u001b[39;00m\u001b[39mfeatures\u001b[39;00m \u001b[39mimport\u001b[39;00m \u001b[39m*\u001b[39m\n\u001b[1;32m      4\u001b[0m \u001b[39mfrom\u001b[39;00m \u001b[39m.\u001b[39;00m\u001b[39mheart\u001b[39;00m \u001b[39mimport\u001b[39;00m \u001b[39m*\u001b[39m\n",
      "File \u001b[0;32m~/.python/current/lib/python3.10/site-packages/yasa/detection.py:21\u001b[0m\n\u001b[1;32m     18\u001b[0m \u001b[39mfrom\u001b[39;00m \u001b[39msklearn\u001b[39;00m\u001b[39m.\u001b[39;00m\u001b[39mensemble\u001b[39;00m \u001b[39mimport\u001b[39;00m IsolationForest\n\u001b[1;32m     20\u001b[0m \u001b[39mfrom\u001b[39;00m \u001b[39m.\u001b[39;00m\u001b[39mspectral\u001b[39;00m \u001b[39mimport\u001b[39;00m stft_power\n\u001b[0;32m---> 21\u001b[0m \u001b[39mfrom\u001b[39;00m \u001b[39m.\u001b[39;00m\u001b[39mnumba\u001b[39;00m \u001b[39mimport\u001b[39;00m _detrend, _rms\n\u001b[1;32m     22\u001b[0m \u001b[39mfrom\u001b[39;00m \u001b[39m.\u001b[39;00m\u001b[39mio\u001b[39;00m \u001b[39mimport\u001b[39;00m set_log_level, is_tensorpac_installed, is_pyriemann_installed\n\u001b[1;32m     23\u001b[0m \u001b[39mfrom\u001b[39;00m \u001b[39m.\u001b[39;00m\u001b[39mothers\u001b[39;00m \u001b[39mimport\u001b[39;00m (\n\u001b[1;32m     24\u001b[0m     moving_transform,\n\u001b[1;32m     25\u001b[0m     trimbothstd,\n\u001b[0;32m   (...)\u001b[0m\n\u001b[1;32m     29\u001b[0m     _zerocrossings,\n\u001b[1;32m     30\u001b[0m )\n",
      "File \u001b[0;32m~/.python/current/lib/python3.10/site-packages/yasa/numba.py:5\u001b[0m\n\u001b[1;32m      1\u001b[0m \u001b[39m\"\"\"\u001b[39;00m\n\u001b[1;32m      2\u001b[0m \u001b[39mThis file contains Numba-accelerated functions used in the main detections.\u001b[39;00m\n\u001b[1;32m      3\u001b[0m \u001b[39m\"\"\"\u001b[39;00m\n\u001b[1;32m      4\u001b[0m \u001b[39mimport\u001b[39;00m \u001b[39mnumpy\u001b[39;00m \u001b[39mas\u001b[39;00m \u001b[39mnp\u001b[39;00m\n\u001b[0;32m----> 5\u001b[0m \u001b[39mfrom\u001b[39;00m \u001b[39mnumba\u001b[39;00m \u001b[39mimport\u001b[39;00m jit\n\u001b[1;32m      7\u001b[0m __all__ \u001b[39m=\u001b[39m []\n\u001b[1;32m     10\u001b[0m \u001b[39m#############################################################################\u001b[39;00m\n\u001b[1;32m     11\u001b[0m \u001b[39m# NUMBA JIT UTILITY FUNCTIONS\u001b[39;00m\n\u001b[1;32m     12\u001b[0m \u001b[39m#############################################################################\u001b[39;00m\n",
      "File \u001b[0;32m~/.python/current/lib/python3.10/site-packages/numba/__init__.py:42\u001b[0m\n\u001b[1;32m     38\u001b[0m \u001b[39mfrom\u001b[39;00m \u001b[39mnumba\u001b[39;00m\u001b[39m.\u001b[39;00m\u001b[39mcore\u001b[39;00m\u001b[39m.\u001b[39;00m\u001b[39mdecorators\u001b[39;00m \u001b[39mimport\u001b[39;00m (cfunc, generated_jit, jit, njit, stencil,\n\u001b[1;32m     39\u001b[0m                                    jit_module)\n\u001b[1;32m     41\u001b[0m \u001b[39m# Re-export vectorize decorators and the thread layer querying function\u001b[39;00m\n\u001b[0;32m---> 42\u001b[0m \u001b[39mfrom\u001b[39;00m \u001b[39mnumba\u001b[39;00m\u001b[39m.\u001b[39;00m\u001b[39mnp\u001b[39;00m\u001b[39m.\u001b[39;00m\u001b[39mufunc\u001b[39;00m \u001b[39mimport\u001b[39;00m (vectorize, guvectorize, threading_layer,\n\u001b[1;32m     43\u001b[0m                             get_num_threads, set_num_threads,\n\u001b[1;32m     44\u001b[0m                             set_parallel_chunksize, get_parallel_chunksize,\n\u001b[1;32m     45\u001b[0m                             get_thread_id)\n\u001b[1;32m     47\u001b[0m \u001b[39m# Re-export Numpy helpers\u001b[39;00m\n\u001b[1;32m     48\u001b[0m \u001b[39mfrom\u001b[39;00m \u001b[39mnumba\u001b[39;00m\u001b[39m.\u001b[39;00m\u001b[39mnp\u001b[39;00m\u001b[39m.\u001b[39;00m\u001b[39mnumpy_support\u001b[39;00m \u001b[39mimport\u001b[39;00m carray, farray, from_dtype\n",
      "File \u001b[0;32m~/.python/current/lib/python3.10/site-packages/numba/np/ufunc/__init__.py:3\u001b[0m\n\u001b[1;32m      1\u001b[0m \u001b[39m# -*- coding: utf-8 -*-\u001b[39;00m\n\u001b[0;32m----> 3\u001b[0m \u001b[39mfrom\u001b[39;00m \u001b[39mnumba\u001b[39;00m\u001b[39m.\u001b[39;00m\u001b[39mnp\u001b[39;00m\u001b[39m.\u001b[39;00m\u001b[39mufunc\u001b[39;00m\u001b[39m.\u001b[39;00m\u001b[39mdecorators\u001b[39;00m \u001b[39mimport\u001b[39;00m Vectorize, GUVectorize, vectorize, guvectorize\n\u001b[1;32m      4\u001b[0m \u001b[39mfrom\u001b[39;00m \u001b[39mnumba\u001b[39;00m\u001b[39m.\u001b[39;00m\u001b[39mnp\u001b[39;00m\u001b[39m.\u001b[39;00m\u001b[39mufunc\u001b[39;00m\u001b[39m.\u001b[39;00m\u001b[39m_internal\u001b[39;00m \u001b[39mimport\u001b[39;00m PyUFunc_None, PyUFunc_Zero, PyUFunc_One\n\u001b[1;32m      5\u001b[0m \u001b[39mfrom\u001b[39;00m \u001b[39mnumba\u001b[39;00m\u001b[39m.\u001b[39;00m\u001b[39mnp\u001b[39;00m\u001b[39m.\u001b[39;00m\u001b[39mufunc\u001b[39;00m \u001b[39mimport\u001b[39;00m _internal, array_exprs\n",
      "File \u001b[0;32m~/.python/current/lib/python3.10/site-packages/numba/np/ufunc/decorators.py:3\u001b[0m\n\u001b[1;32m      1\u001b[0m \u001b[39mimport\u001b[39;00m \u001b[39minspect\u001b[39;00m\n\u001b[0;32m----> 3\u001b[0m \u001b[39mfrom\u001b[39;00m \u001b[39mnumba\u001b[39;00m\u001b[39m.\u001b[39;00m\u001b[39mnp\u001b[39;00m\u001b[39m.\u001b[39;00m\u001b[39mufunc\u001b[39;00m \u001b[39mimport\u001b[39;00m _internal\n\u001b[1;32m      4\u001b[0m \u001b[39mfrom\u001b[39;00m \u001b[39mnumba\u001b[39;00m\u001b[39m.\u001b[39;00m\u001b[39mnp\u001b[39;00m\u001b[39m.\u001b[39;00m\u001b[39mufunc\u001b[39;00m\u001b[39m.\u001b[39;00m\u001b[39mparallel\u001b[39;00m \u001b[39mimport\u001b[39;00m ParallelUFuncBuilder, ParallelGUFuncBuilder\n\u001b[1;32m      6\u001b[0m \u001b[39mfrom\u001b[39;00m \u001b[39mnumba\u001b[39;00m\u001b[39m.\u001b[39;00m\u001b[39mcore\u001b[39;00m\u001b[39m.\u001b[39;00m\u001b[39mregistry\u001b[39;00m \u001b[39mimport\u001b[39;00m DelayedRegistry\n",
      "\u001b[0;31mSystemError\u001b[0m: initialization of _internal failed without raising an exception"
     ]
    }
   ],
   "source": [
    "\n",
    "#write code that reads the MNE object into the YASA package\n",
    "\n",
    "import yasa\n",
    "\n",
    "## write a function that reads the MNE object into the YASA package\n",
    "\n",
    "def mne_to_yasa(mne_raw):\n",
    "    yasa_raw = yasa.sleep_stage(mne_raw)\n",
    "    return yasa_raw\n",
    "\n",
    "mne_to_yasa(csv_to_mne('mock_df.csv'))\n",
    "\n"
   ]
  },
  {
   "cell_type": "code",
   "execution_count": 10,
   "metadata": {},
   "outputs": [
    {
     "ename": "NameError",
     "evalue": "name 'mne_to_yasa' is not defined",
     "output_type": "error",
     "traceback": [
      "\u001b[0;31m---------------------------------------------------------------------------\u001b[0m",
      "\u001b[0;31mNameError\u001b[0m                                 Traceback (most recent call last)",
      "Cell \u001b[0;32mIn[10], line 11\u001b[0m\n\u001b[1;32m      8\u001b[0m     stages \u001b[39m=\u001b[39m yasa_raw\u001b[39m.\u001b[39mto_stages()\n\u001b[1;32m      9\u001b[0m     \u001b[39mreturn\u001b[39;00m stages\n\u001b[0;32m---> 11\u001b[0m yasa_to_stages(mne_to_yasa(csv_to_mne(\u001b[39m'\u001b[39m\u001b[39mmock_df.csv\u001b[39m\u001b[39m'\u001b[39m)))\n",
      "\u001b[0;31mNameError\u001b[0m: name 'mne_to_yasa' is not defined"
     ]
    }
   ],
   "source": [
    "#categorize the yasa data into sleep stages\n",
    "\n",
    "#write code that categorizes the yasa data into sleep stages\n",
    "\n",
    "## write a function that categorizes the yasa data into sleep stages\n",
    "\n",
    "def yasa_to_stages(yasa_raw):\n",
    "    stages = yasa_raw.to_stages()\n",
    "    return stages\n",
    "\n",
    "yasa_to_stages(mne_to_yasa(csv_to_mne('mock_df.csv')))\n",
    "\n",
    "\n",
    "\n",
    "\n"
   ]
  },
  {
   "cell_type": "code",
   "execution_count": 2,
   "metadata": {},
   "outputs": [
    {
     "name": "stdout",
     "output_type": "stream",
     "text": [
      "Creating RawArray with float64 data, n_channels=2, n_times=30000\n",
      "    Range : 0 ... 29999 =      0.000 ...   370.358 secs\n",
      "Ready.\n"
     ]
    },
    {
     "name": "stderr",
     "output_type": "stream",
     "text": [
      "/home/codespace/.local/lib/python3.10/site-packages/sklearn/base.py:318: UserWarning: Trying to unpickle estimator LabelEncoder from version 0.24.2 when using version 1.2.2. This might lead to breaking code or invalid results. Use at your own risk. For more info please refer to:\n",
      "https://scikit-learn.org/stable/model_persistence.html#security-maintainability-limitations\n",
      "  warnings.warn(\n"
     ]
    },
    {
     "data": {
      "text/plain": [
       "<Axes: xlabel='Time (30-sec epoch)', ylabel='Probability'>"
      ]
     },
     "execution_count": 2,
     "metadata": {},
     "output_type": "execute_result"
    },
    {
     "data": {
      "image/png": "[encoded data removed]",
      "text/plain": [
       "<Figure size 1000x500 with 1 Axes>"
      ]
     },
     "metadata": {},
     "output_type": "display_data"
    },
    {
     "name": "stderr",
     "output_type": "stream",
     "text": [
      "Bad pipe message: %s [b'\\xde\\xb3\\xe5\\xbf\\x9f\\xd4|\\xe2\\xe5\\xbb=bW\\xf3e\\x04\\xfe0 \\xf8M\"V\\xbf4\\x8aW\\xbcA\\xef\\xe5\\x8b\\\\\\xf2CaO\\x17\\xf3d\\xf1\\xceU\\xb0\\xfeq\\xdbv9H\\xe0\\x00\\x08\\x13\\x02\\x13\\x03\\x13\\x01\\x00\\xff\\x01\\x00\\x00\\x8f\\x00\\x00\\x00\\x0e\\x00\\x0c\\x00\\x00\\t127.0.0.1\\x00\\x0b\\x00\\x04\\x03\\x00\\x01\\x02\\x00\\n\\x00\\x0c\\x00\\n\\x00\\x1d\\x00\\x17\\x00\\x1e\\x00\\x19\\x00\\x18\\x00#\\x00\\x00\\x00\\x16\\x00\\x00\\x00\\x17\\x00\\x00\\x00\\r\\x00\\x1e\\x00\\x1c\\x04\\x03\\x05\\x03\\x06\\x03\\x08\\x07\\x08\\x08\\x08\\t\\x08\\n\\x08\\x0b\\x08\\x04\\x08\\x05\\x08\\x06\\x04\\x01\\x05\\x01\\x06\\x01\\x00+\\x00\\x03\\x02\\x03\\x04\\x00-\\x00\\x02\\x01\\x01\\x003\\x00&\\x00$\\x00\\x1d\\x00 \\xfdav\\x94\\x9b\\xa4\\xd9']\n",
      "Bad pipe message: %s [b\"\\xde\\xf7a\\x02\\xc0\\xbd\\xd4\\xcf@\\x1bCf\\xe4\\xda\\x18\\x1c>\\xab\\x00\\x00|\\xc0,\\xc00\\x00\\xa3\\x00\\x9f\\xcc\\xa9\\xcc\\xa8\\xcc\\xaa\\xc0\\xaf\\xc0\\xad\\xc0\\xa3\\xc0\\x9f\\xc0]\\xc0a\\xc0W\\xc0S\\xc0+\\xc0/\\x00\\xa2\\x00\\x9e\\xc0\\xae\\xc0\\xac\\xc0\\xa2\\xc0\\x9e\\xc0\\\\\\xc0`\\xc0V\\xc0R\\xc0$\\xc0(\\x00k\\x00j\\xc0#\\xc0'\\x00g\\x00@\\xc0\\n\\xc0\\x14\\x009\\x008\\xc0\\t\\xc0\\x13\\x003\\x002\\x00\\x9d\\xc0\\xa1\\xc0\\x9d\\xc0Q\\x00\\x9c\\xc0\\xa0\\xc0\\x9c\\xc0P\\x00=\\x00<\\x005\\x00/\\x00\\x9a\\x00\\x99\\xc0\\x07\\xc0\\x11\\x00\\x96\\x00\\x05\\x00\\xff\\x01\\x00\\x00j\\x00\\x00\\x00\\x0e\\x00\\x0c\\x00\\x00\\t127.0.0.1\\x00\\x0b\\x00\\x04\\x03\\x00\\x01\\x02\\x00\\n\\x00\\x0c\\x00\\n\\x00\\x1d\\x00\\x17\"]\n",
      "Bad pipe message: %s [b'A%\\xec@\\xb3\\xea\\xee3\\x97\\xa5\\xd2\\x9d\\x12\\xa0\\xadQ\\xc1\\xf1\\x00\\x00\\xa6\\xc0,\\xc00\\x00\\xa3\\x00\\x9f\\xcc\\xa9\\xcc\\xa8\\xcc\\xaa\\xc0\\xaf\\xc0\\xad\\xc0\\xa3\\xc0\\x9f\\xc0]\\xc0a\\xc0W\\xc0S\\xc0+\\xc0/\\x00\\xa2\\x00\\x9e\\xc0\\xae\\xc0\\xac\\xc0\\xa2\\xc0\\x9e\\xc0\\\\\\xc0`\\xc0V\\xc0R\\xc0$\\xc0(\\x00']\n",
      "Bad pipe message: %s [b\"j\\xc0s\\xc0w\\x00\\xc4\\x00\\xc3\\xc0#\\xc0'\\x00g\\x00@\\xc0r\\xc0v\\x00\\xbe\\x00\\xbd\\xc0\\n\\xc0\\x14\\x009\\x008\\x00\\x88\\x00\\x87\\xc0\\t\\xc0\\x13\\x003\\x002\\x00\\x9a\\x00\\x99\\x00E\\x00D\\xc0\\x07\\xc0\\x11\\xc0\\x08\\xc0\\x12\\x00\\x16\\x00\\x13\\x00\\x9d\\xc0\\xa1\\xc0\\x9d\\xc0Q\\x00\\x9c\\xc0\\xa0\\xc0\\x9c\\xc0P\\x00=\\x00\\xc0\\x00<\\x00\\xba\\x005\\x00\\x84\\x00/\\x00\\x96\\x00A\\x00\\x05\\x00\\n\\x00\\xff\\x01\"]\n",
      "Bad pipe message: %s [b'.\\xc0S\\xd8+\\xa3C]']\n",
      "Bad pipe message: %s [b'\\t\\r\\xeb)\\xc8\\x15\\xd1\\x10\\x00\\x00\\xa2\\xc0\\x14\\xc0\\n\\x009\\x008\\x007\\x006\\x00\\x88\\x00\\x87\\x00\\x86\\x00\\x85\\xc0\\x19\\x00:\\x00\\x89\\xc0\\x0f\\xc0\\x05\\x005\\x00\\x84\\xc0\\x13\\xc0']\n",
      "Bad pipe message: %s [b'3\\x002\\x001\\x000\\x00']\n",
      "Bad pipe message: %s [b'\\x99\\x00\\x98\\x00\\x97\\x00E\\x00D\\x00C\\x00B\\xc0\\x18\\x004\\x00\\x9b\\x00F\\xc0\\x0e\\xc0\\x04\\x00/\\x00\\x96\\x00A\\x00\\x07\\xc0\\x11\\xc0\\x07\\xc0\\x16\\x00\\x18\\xc0\\x0c\\xc0\\x02\\x00\\x05\\x00\\x04\\xc0\\x12\\xc0\\x08\\x00\\x16\\x00\\x13\\x00\\x10\\x00\\r\\xc0\\x17\\x00\\x1b\\xc0\\r\\xc0\\x03\\x00\\n\\x00\\x15\\x00\\x12\\x00\\x0f\\x00\\x0c\\x00\\x1a\\x00\\t\\x00\\x14\\x00\\x11\\x00\\x19\\x00\\x08\\x00\\x06\\x00\\x17\\x00\\x03\\xc0\\x10\\xc0\\x06\\xc0\\x15\\xc0\\x0b\\xc0\\x01\\x00\\x02\\x00\\x01\\x00\\xff\\x02\\x01\\x00\\x00C\\x00\\x00\\x00\\x0e\\x00\\x0c\\x00\\x00\\t127.0.0.1\\x00\\x0b\\x00\\x04\\x03\\x00\\x01\\x02\\x00\\n\\x00\\x1c\\x00\\x1a\\x00\\x17\\x00']\n",
      "Bad pipe message: %s [b'\\x1c\\x00\\x1b\\x00\\x18\\x00\\x1a\\x00\\x16\\x00\\x0e\\x00\\r\\x00\\x0b\\x00\\x0c\\x00\\t\\x00\\n\\x00#\\x00']\n",
      "Bad pipe message: %s [b\"\\x87\\xdafi\\x98\\xee\\x90\\xc0m\\xa9\\xa3\\x88\\xfd\\xdf\\x9e:\\x15\\xcc\\x00\\x00\\x86\\xc00\\xc0,\\xc0(\\xc0$\\xc0\\x14\\xc0\\n\\x00\\xa5\\x00\\xa3\\x00\\xa1\\x00\\x9f\\x00k\\x00j\\x00i\\x00h\\x009\\x008\\x007\\x006\\xc02\\xc0.\\xc0*\\xc0&\\xc0\\x0f\\xc0\\x05\\x00\\x9d\\x00=\\x005\\xc0/\\xc0+\\xc0'\\xc0#\\xc0\\x13\\xc0\\t\\x00\\xa4\\x00\\xa2\\x00\\xa0\\x00\\x9e\\x00g\\x00@\\x00?\\x00>\\x003\\x002\\x001\\x000\\xc01\\xc0-\\xc0)\\xc0%\\xc0\\x0e\\xc0\\x04\\x00\\x9c\\x00<\\x00/\\x00\\x9a\\x00\\x99\\x00\\x98\\x00\\x97\\x00\\x96\\x00\\x07\\xc0\\x11\\xc0\\x07\\xc0\\x0c\\xc0\\x02\\x00\\x05\\x00\\x04\\x00\\xff\\x02\\x01\\x00\\x00g\\x00\\x00\\x00\\x0e\\x00\\x0c\\x00\\x00\\t127.0.0.1\\x00\\x0b\\x00\\x04\\x03\\x00\\x01\\x02\\x00\\n\\x00\\x1c\\x00\\x1a\\x00\\x17\\x00\\x19\\x00\\x1c\\x00\\x1b\\x00\\x18\\x00\\x1a\\x00\\x16\\x00\\x0e\\x00\\r\\x00\\x0b\\x00\\x0c\\x00\\t\"]\n",
      "Bad pipe message: %s [b\"a\\x94j\\xf4\\x1a\\x87\\x9b\\xa1\\xa2E\\xf3\\x0c\\xf9\\xa5\\x0cK\\xbfG\\x00\\x00\\xf4\\xc00\\xc0,\\xc0(\\xc0$\\xc0\\x14\\xc0\\n\\x00\\xa5\\x00\\xa3\\x00\\xa1\\x00\\x9f\\x00k\\x00j\\x00i\\x00h\\x009\\x008\\x007\\x006\\x00\\x88\\x00\\x87\\x00\\x86\\x00\\x85\\xc0\\x19\\x00\\xa7\\x00m\\x00:\\x00\\x89\\xc02\\xc0.\\xc0*\\xc0&\\xc0\\x0f\\xc0\\x05\\x00\\x9d\\x00=\\x005\\x00\\x84\\xc0/\\xc0+\\xc0'\\xc0#\\xc0\\x13\\xc0\\t\\x00\\xa4\\x00\\xa2\\x00\\xa0\\x00\\x9e\\x00g\\x00@\\x00?\\x00>\\x003\\x002\\x001\\x000\\x00\\x9a\\x00\\x99\\x00\\x98\\x00\\x97\\x00E\\x00D\\x00C\\x00B\\xc0\\x18\\x00\\xa6\\x00l\\x004\\x00\\x9b\\x00F\\xc01\\xc0-\\xc0)\\xc0%\\xc0\\x0e\\xc0\"]\n",
      "Bad pipe message: %s [b'\\x9c\\x00<']\n"
     ]
    }
   ],
   "source": [
    "# Marcos\n",
    "import pandas as pd\n",
    "import numpy as np\n",
    "import yasa\n",
    "import mne\n",
    "\n",
    "\n",
    "data = {'Time': ['2021-09-01 00:00:00', '2021-09-01 00:00:01', '2021-09-01 00:00:02', '2021-09-01 00:00:03', '2021-09-01 00:00:04', '2021-09-01 00:00:05', '2021-09-01 00:00:06', '2021-09-01 00:00:07', '2021-09-01 00:00:08', '2021-09-01 00:00:09', '2021-09-01 00:00:10', '2021-09-01 00:00:11', '2021-09-01 00:00:12', '2021-09-01 00:00:13', '2021-09-01 00:00:14', '2021-09-01 00:00:15', '2021-09-01 00:00:16', '2021-09-01 00:00:17', '2021-09-01 00:00:18', '2021-09-01 00:00:19'],\n",
    "        'F8': [0.1, 0.2, 0.3, 0.4, 0.5, 0.6, 0.7, 0.8, 0.9, 1.0, 1.1, 1.2, 1.3, 1.4, 1.5, 1.6, 1.7, 1.8, 1.9, 2.0]}\n",
    "mock_df = pd.DataFrame(data)\n",
    "\n",
    "# Replicate rows to create a 5-minute recording\n",
    "# fix: 'AssertionError: At least 5 minutes of data is required'\n",
    "# OpenAI prompt:\n",
    "#   i'm getting AssertionError: At least 5 minutes of data is required when running yasa.SleepStaging.\n",
    "#   my data:\n",
    "#   mock_df['Time'] = pd.to_datetime(mock_df['Time']).astype(np.int64)\n",
    "#   How to increase my mock dataframe length?\n",
    "mock_df = pd.concat([mock_df] * 1500, ignore_index=True)\n",
    "mock_df['Time'] = pd.to_datetime(mock_df['Time']).astype(np.int64)\n",
    "\n",
    "# Turns a dataframe into a raw array for the MNE package\n",
    "def df_to_raw(df):\n",
    "    raw = np.array(df)\n",
    "    return raw\n",
    "\n",
    "# Turns a raw array into a mne.io.RawArray object\n",
    "# fix: 'Sampling frequency must be at least 80 Hz.'\n",
    "# Changed value of sfreq from '1' to '81'\n",
    "# Changed wrong ch_types (str, float) to valid ch_type 'eeg'\n",
    "def raw_to_mne(raw):\n",
    "    info = mne.create_info(ch_names=['Time', 'F8'],\n",
    "                           sfreq=81,\n",
    "                           ch_types=['eeg', 'eeg'])\n",
    "    mne_raw = mne.io.RawArray(raw, info)\n",
    "    return mne_raw\n",
    "\n",
    "# Turns the MNE object into the YASA package\n",
    "# Changed \"yasa.sleep_stage(mne_raw)\"\n",
    "# To      \"yasa.SleepStaging(mne_raw, eeg_name='F8')\"\n",
    "# ref.: https://raphaelvallat.com/yasa/build/html/quickstart.html#automatic-sleep-staging\n",
    "def mne_to_yasa(mne_raw):\n",
    "    yasa_raw = yasa.SleepStaging(mne_raw, eeg_name='F8')\n",
    "    return yasa_raw\n",
    "\n",
    "# Initialize the sleep staging instance\n",
    "# ref.: https://raphaelvallat.com/yasa/build/html/generated/yasa.SleepStaging.html\n",
    "sls = mne_to_yasa(raw_to_mne(df_to_raw(mock_df.values.T)))\n",
    "\n",
    "# Get the predicted sleep stages\n",
    "hypno = sls.predict()\n",
    "# Get the predicted probabilities\n",
    "proba = sls.predict_proba()\n",
    "# Get the confidence\n",
    "confidence = proba.max(axis=1)\n",
    "# Plot the predicted probabilities\n",
    "sls.plot_predict_proba()"
   ]
  },
  {
   "cell_type": "code",
   "execution_count": null,
   "metadata": {},
   "outputs": [],
   "source": []
  }
 ],
 "metadata": {
  "kernelspec": {
   "display_name": "Python 3",
   "language": "python",
   "name": "python3"
  },
  "language_info": {
   "codemirror_mode": {
    "name": "ipython",
    "version": 3
   },
   "file_extension": ".py",
   "mimetype": "text/x-python",
   "name": "python",
   "nbconvert_exporter": "python",
   "pygments_lexer": "ipython3",
   "version": "3.10.4"
  },
  "orig_nbformat": 4
 },
 "nbformat": 4,
 "nbformat_minor": 2
}
