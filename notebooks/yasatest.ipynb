{
 "cells": [
  {
   "cell_type": "code",
   "execution_count": 2,
   "metadata": {},
   "outputs": [
    {
     "name": "stdout",
     "output_type": "stream",
     "text": [
      "Collecting numpy==1.23.1\n",
      "  Using cached numpy-1.23.1-cp310-cp310-manylinux_2_17_x86_64.manylinux2014_x86_64.whl (17.0 MB)\n",
      "Installing collected packages: numpy\n",
      "  Attempting uninstall: numpy\n",
      "    Found existing installation: numpy 1.22.4\n",
      "    Uninstalling numpy-1.22.4:\n",
      "      Successfully uninstalled numpy-1.22.4\n",
      "\u001b[33m  WARNING: The scripts f2py, f2py3 and f2py3.10 are installed in '/usr/local/python/3.10.4/bin' which is not on PATH.\n",
      "  Consider adding this directory to PATH or, if you prefer to suppress this warning, use --no-warn-script-location.\u001b[0m\u001b[33m\n",
      "\u001b[0m\u001b[31mERROR: pip's dependency resolver does not currently take into account all the packages that are installed. This behaviour is the source of the following dependency conflicts.\n",
      "numba 0.56.0 requires numpy<1.23,>=1.18, but you have numpy 1.23.1 which is incompatible.\u001b[0m\u001b[31m\n",
      "\u001b[0mSuccessfully installed numpy-1.23.1\n",
      "Requirement already satisfied: numba<=0.56.0 in /usr/local/python/3.10.4/lib/python3.10/site-packages (0.56.0)\n",
      "Requirement already satisfied: llvmlite<0.40,>=0.39.0dev0 in /usr/local/python/3.10.4/lib/python3.10/site-packages (from numba<=0.56.0) (0.39.1)\n",
      "Collecting numpy<1.23,>=1.18 (from numba<=0.56.0)\n",
      "  Using cached numpy-1.22.4-cp310-cp310-manylinux_2_17_x86_64.manylinux2014_x86_64.whl (16.8 MB)\n",
      "Requirement already satisfied: setuptools in /home/codespace/.local/lib/python3.10/site-packages (from numba<=0.56.0) (67.6.1)\n",
      "Installing collected packages: numpy\n",
      "  Attempting uninstall: numpy\n",
      "    Found existing installation: numpy 1.23.1\n",
      "    Uninstalling numpy-1.23.1:\n",
      "      Successfully uninstalled numpy-1.23.1\n",
      "\u001b[33m  WARNING: The scripts f2py, f2py3 and f2py3.10 are installed in '/usr/local/python/3.10.4/bin' which is not on PATH.\n",
      "  Consider adding this directory to PATH or, if you prefer to suppress this warning, use --no-warn-script-location.\u001b[0m\u001b[33m\n",
      "\u001b[0mSuccessfully installed numpy-1.22.4\n"
     ]
    }
   ],
   "source": [
    "import pandas as pd\n",
    "\n",
    "!pip install numpy==1.23.1\n",
    "!pip install \"numba<=0.56.0\"\n",
    "!pip install mne\n",
    "\n",
    "\n",
    "\n",
    "import yasa"
   ]
  },
  {
   "cell_type": "code",
   "execution_count": 4,
   "metadata": {},
   "outputs": [
    {
     "name": "stdout",
     "output_type": "stream",
     "text": [
      "Requirement already satisfied: mne in /usr/local/python/3.10.4/lib/python3.10/site-packages (1.3.1)\n",
      "Requirement already satisfied: numpy>=1.15.4 in /usr/local/python/3.10.4/lib/python3.10/site-packages (from mne) (1.22.4)\n",
      "Requirement already satisfied: scipy>=1.1.0 in /home/codespace/.local/lib/python3.10/site-packages (from mne) (1.10.1)\n",
      "Requirement already satisfied: matplotlib in /usr/local/python/3.10.4/lib/python3.10/site-packages (from mne) (3.7.0)\n",
      "Requirement already satisfied: tqdm in /usr/local/python/3.10.4/lib/python3.10/site-packages (from mne) (4.64.0)\n",
      "Requirement already satisfied: pooch>=1.5 in /usr/local/python/3.10.4/lib/python3.10/site-packages (from mne) (1.7.0)\n",
      "Requirement already satisfied: decorator in /home/codespace/.local/lib/python3.10/site-packages (from mne) (5.1.1)\n",
      "Requirement already satisfied: packaging in /home/codespace/.local/lib/python3.10/site-packages (from mne) (23.0)\n",
      "Requirement already satisfied: jinja2 in /home/codespace/.local/lib/python3.10/site-packages (from mne) (3.1.2)\n",
      "Requirement already satisfied: platformdirs>=2.5.0 in /home/codespace/.local/lib/python3.10/site-packages (from pooch>=1.5->mne) (3.2.0)\n",
      "Requirement already satisfied: requests>=2.19.0 in /home/codespace/.local/lib/python3.10/site-packages (from pooch>=1.5->mne) (2.28.2)\n",
      "Requirement already satisfied: MarkupSafe>=2.0 in /home/codespace/.local/lib/python3.10/site-packages (from jinja2->mne) (2.1.2)\n",
      "Requirement already satisfied: contourpy>=1.0.1 in /home/codespace/.local/lib/python3.10/site-packages (from matplotlib->mne) (1.0.7)\n",
      "Requirement already satisfied: cycler>=0.10 in /home/codespace/.local/lib/python3.10/site-packages (from matplotlib->mne) (0.11.0)\n",
      "Requirement already satisfied: fonttools>=4.22.0 in /home/codespace/.local/lib/python3.10/site-packages (from matplotlib->mne) (4.39.3)\n",
      "Requirement already satisfied: kiwisolver>=1.0.1 in /home/codespace/.local/lib/python3.10/site-packages (from matplotlib->mne) (1.4.4)\n",
      "Requirement already satisfied: pillow>=6.2.0 in /home/codespace/.local/lib/python3.10/site-packages (from matplotlib->mne) (9.5.0)\n",
      "Requirement already satisfied: pyparsing>=2.3.1 in /home/codespace/.local/lib/python3.10/site-packages (from matplotlib->mne) (3.0.9)\n",
      "Requirement already satisfied: python-dateutil>=2.7 in /home/codespace/.local/lib/python3.10/site-packages (from matplotlib->mne) (2.8.2)\n",
      "Requirement already satisfied: six>=1.5 in /home/codespace/.local/lib/python3.10/site-packages (from python-dateutil>=2.7->matplotlib->mne) (1.16.0)\n",
      "Requirement already satisfied: charset-normalizer<4,>=2 in /home/codespace/.local/lib/python3.10/site-packages (from requests>=2.19.0->pooch>=1.5->mne) (3.1.0)\n",
      "Requirement already satisfied: idna<4,>=2.5 in /home/codespace/.local/lib/python3.10/site-packages (from requests>=2.19.0->pooch>=1.5->mne) (3.4)\n",
      "Requirement already satisfied: urllib3<1.27,>=1.21.1 in /home/codespace/.local/lib/python3.10/site-packages (from requests>=2.19.0->pooch>=1.5->mne) (1.26.15)\n",
      "Requirement already satisfied: certifi>=2017.4.17 in /home/codespace/.local/lib/python3.10/site-packages (from requests>=2.19.0->pooch>=1.5->mne) (2022.12.7)\n"
     ]
    }
   ],
   "source": []
  },
  {
   "cell_type": "code",
   "execution_count": null,
   "metadata": {},
   "outputs": [],
   "source": [
    "#alright copilot, i need you to write functions that do the following. the goal is to create to file that can be used by the YASA package to catagorize sleep data\n",
    "# generates a mock dataframe of sleep data that includes values, time, an one channel called f8\n",
    "# store that dataframe in a pandas dataframe then turn it into a csv file\n",
    "# then transfer csv file to the MNE package in a raw array\n",
    "# then install and use the YASA package to catagorize the data into sleep stages\n",
    "\n",
    "# Path: Untitled-1.ipynb\n",
    "import pandas as pd\n",
    "\n",
    "#write code that reads in data from a csv file and stores it in a dataframe\n",
    "\n",
    "import pandas as pd\n",
    "\n",
    "#the sleep data must include 20 rows and 3 columns, value, time, and f8, which is the channel name\n",
    "\n",
    "#the time value must be a time date object. please fix\n",
    "\n",
    "# the time object must be in secondds and hours. please fix\n",
    "\n",
    "#rewrite the data object to include the corrected timedate object\n",
    "\n",
    "data = {'Time': ['2021-09-01 00:00:00', '2021-09-01 00:00:01', '2021-09-01 00:00:02', '2021-09-01 00:00:03', '2021-09-01 00:00:04', '2021-09-01 00:00:05', '2021-09-01 00:00:06', '2021-09-01 00:00:07', '2021-09-01 00:00:08', '2021-09-01 00:00:09', '2021-09-01 00:00:10', '2021-09-01 00:00:11', '2021-09-01 00:00:12', '2021-09-01 00:00:13', '2021-09-01 00:00:14', '2021-09-01 00:00:15', '2021-09-01 00:00:16', '2021-09-01 00:00:17', '2021-09-01 00:00:18', '2021-09-01 00:00:19'],\n",
    "        'F8': [0.1, 0.2, 0.3, 0.4, 0.5, 0.6, 0.7, 0.8, 0.9, 1.0, 1.1, 1.2, 1.3, 1.4, 1.5, 1.6, 1.7, 1.8, 1.9, 2.0]}\n",
    "mock_df = pd.DataFrame(data)\n",
    "print(mock_df)\n",
    "\n",
    "#write code that turns the dataframe into a csv file. change mock_df into a csv file\n",
    "\n",
    "\n",
    "\n",
    "mock_df['Time'] = pd.to_datetime(mock_df['Time']).astype(np.int64)\n",
    "\n",
    "\n",
    "\n",
    "\n",
    "\n",
    "\n"
   ]
  },
  {
   "cell_type": "code",
   "execution_count": 19,
   "metadata": {},
   "outputs": [
    {
     "ename": "ValueError",
     "evalue": "len(data) (20) does not match len(info[\"ch_names\"]) (2)",
     "output_type": "error",
     "traceback": [
      "\u001b[0;31m---------------------------------------------------------------------------\u001b[0m",
      "\u001b[0;31mValueError\u001b[0m                                Traceback (most recent call last)",
      "Cell \u001b[0;32mIn[19], line 36\u001b[0m\n\u001b[1;32m     32\u001b[0m     mne_raw \u001b[39m=\u001b[39m mne\u001b[39m.\u001b[39mio\u001b[39m.\u001b[39mRawArray(raw, info)\n\u001b[1;32m     33\u001b[0m     \u001b[39mreturn\u001b[39;00m mne_raw\n\u001b[0;32m---> 36\u001b[0m csv_to_mne(\u001b[39m'\u001b[39;49m\u001b[39mmock_df.csv\u001b[39;49m\u001b[39m'\u001b[39;49m)\n",
      "Cell \u001b[0;32mIn[19], line 32\u001b[0m, in \u001b[0;36mcsv_to_mne\u001b[0;34m(csv_file)\u001b[0m\n\u001b[1;32m     28\u001b[0m raw \u001b[39m=\u001b[39m np\u001b[39m.\u001b[39marray(df)\n\u001b[1;32m     29\u001b[0m info \u001b[39m=\u001b[39m mne\u001b[39m.\u001b[39mcreate_info(ch_names\u001b[39m=\u001b[39m[\u001b[39m'\u001b[39m\u001b[39mF8\u001b[39m\u001b[39m'\u001b[39m,\u001b[39m'\u001b[39m\u001b[39mTime\u001b[39m\u001b[39m'\u001b[39m ], \n\u001b[1;32m     30\u001b[0m                        sfreq\u001b[39m=\u001b[39m\u001b[39m1\u001b[39m, \n\u001b[1;32m     31\u001b[0m                        ch_types\u001b[39m=\u001b[39m[\u001b[39m'\u001b[39m\u001b[39meeg\u001b[39m\u001b[39m'\u001b[39m, \u001b[39m'\u001b[39m\u001b[39mmisc\u001b[39m\u001b[39m'\u001b[39m])\n\u001b[0;32m---> 32\u001b[0m mne_raw \u001b[39m=\u001b[39m mne\u001b[39m.\u001b[39;49mio\u001b[39m.\u001b[39;49mRawArray(raw, info)\n\u001b[1;32m     33\u001b[0m \u001b[39mreturn\u001b[39;00m mne_raw\n",
      "File \u001b[0;32m<decorator-gen-239>:12\u001b[0m, in \u001b[0;36m__init__\u001b[0;34m(self, data, info, first_samp, copy, verbose)\u001b[0m\n",
      "File \u001b[0;32m~/.python/current/lib/python3.10/site-packages/mne/io/array/array.py:65\u001b[0m, in \u001b[0;36mRawArray.__init__\u001b[0;34m(self, data, info, first_samp, copy, verbose)\u001b[0m\n\u001b[1;32m     62\u001b[0m     \u001b[39mraise\u001b[39;00m \u001b[39mValueError\u001b[39;00m(\u001b[39m'\u001b[39m\u001b[39mData must be a 2D array of shape (n_channels, \u001b[39m\u001b[39m'\u001b[39m\n\u001b[1;32m     63\u001b[0m                      \u001b[39m'\u001b[39m\u001b[39mn_samples), got shape \u001b[39m\u001b[39m%s\u001b[39;00m\u001b[39m'\u001b[39m \u001b[39m%\u001b[39m (data\u001b[39m.\u001b[39mshape,))\n\u001b[1;32m     64\u001b[0m \u001b[39mif\u001b[39;00m \u001b[39mlen\u001b[39m(data) \u001b[39m!=\u001b[39m \u001b[39mlen\u001b[39m(info[\u001b[39m'\u001b[39m\u001b[39mch_names\u001b[39m\u001b[39m'\u001b[39m]):\n\u001b[0;32m---> 65\u001b[0m     \u001b[39mraise\u001b[39;00m \u001b[39mValueError\u001b[39;00m(\u001b[39m'\u001b[39m\u001b[39mlen(data) (\u001b[39m\u001b[39m%s\u001b[39;00m\u001b[39m) does not match \u001b[39m\u001b[39m'\u001b[39m\n\u001b[1;32m     66\u001b[0m                      \u001b[39m'\u001b[39m\u001b[39mlen(info[\u001b[39m\u001b[39m\"\u001b[39m\u001b[39mch_names\u001b[39m\u001b[39m\"\u001b[39m\u001b[39m]) (\u001b[39m\u001b[39m%s\u001b[39;00m\u001b[39m)\u001b[39m\u001b[39m'\u001b[39m\n\u001b[1;32m     67\u001b[0m                      \u001b[39m%\u001b[39m (\u001b[39mlen\u001b[39m(data), \u001b[39mlen\u001b[39m(info[\u001b[39m'\u001b[39m\u001b[39mch_names\u001b[39m\u001b[39m'\u001b[39m])))\n\u001b[1;32m     68\u001b[0m \u001b[39massert\u001b[39;00m \u001b[39mlen\u001b[39m(info[\u001b[39m'\u001b[39m\u001b[39mch_names\u001b[39m\u001b[39m'\u001b[39m]) \u001b[39m==\u001b[39m info[\u001b[39m'\u001b[39m\u001b[39mnchan\u001b[39m\u001b[39m'\u001b[39m]\n\u001b[1;32m     69\u001b[0m \u001b[39mif\u001b[39;00m copy \u001b[39min\u001b[39;00m (\u001b[39m'\u001b[39m\u001b[39mauto\u001b[39m\u001b[39m'\u001b[39m, \u001b[39m'\u001b[39m\u001b[39minfo\u001b[39m\u001b[39m'\u001b[39m, \u001b[39m'\u001b[39m\u001b[39mboth\u001b[39m\u001b[39m'\u001b[39m):\n",
      "\u001b[0;31mValueError\u001b[0m: len(data) (20) does not match len(info[\"ch_names\"]) (2)"
     ]
    }
   ],
   "source": [
    "#write code that turns mock df into a MNE raw array\n",
    "\n",
    "import numpy as np\n",
    "\n",
    "## write a function that turns a dataframe into a raw array for the MNE package\n",
    "\n",
    "def df_to_raw(df):\n",
    "    raw = np.array(df)\n",
    "    return raw\n",
    "\n",
    "#write code that turns the raw array into a mne.io.RawArray object\n",
    "\n",
    "import mne\n",
    "\n",
    "## write a function that turns a raw array into a mne.io.RawArray object\n",
    "\n",
    "# def raw_to_mne(raw):\n",
    "#     info = mne.create_info(ch_names=['Value', 'Time', 'F8'], \n",
    "#                            sfreq=1, \n",
    "#                            ch_types=['float', 'str', 'float'])\n",
    "#     mne_raw = mne.io.RawArray(raw, info)\n",
    "#     return mne_raw\n",
    "\n",
    "#write code that reads in the data from the csv file and stores it in a mne.io.RawArray object\n",
    "\n",
    "def csv_to_mne(csv_file):\n",
    "    df = pd.read_csv(csv_file)\n",
    "    raw = np.array(df)\n",
    "    info = mne.create_info(ch_names=['F8','Time' ], \n",
    "                           sfreq=1, \n",
    "                           ch_types=['eeg', 'misc'])\n",
    "    mne_raw = mne.io.RawArray(raw, info)\n",
    "    return mne_raw\n",
    "\n",
    "\n",
    "csv_to_mne('mock_df.csv')\n",
    "\n",
    "\n"
   ]
  },
  {
   "cell_type": "code",
   "execution_count": 21,
   "metadata": {},
   "outputs": [],
   "source": [
    "dft = mock_df.transpose().to_numpy()\n",
    "\n",
    "#write code to uninstall numpy\n",
    "\n",
    "import yasa"
   ]
  },
  {
   "cell_type": "code",
   "execution_count": null,
   "metadata": {},
   "outputs": [],
   "source": [
    "\n",
    "#write code that reads the MNE object into the YASA package\n",
    "\n",
    "import yasa\n",
    "\n",
    "## write a function that reads the MNE object into the YASA package\n",
    "\n",
    "def mne_to_yasa(mne_raw):\n",
    "    yasa_raw = yasa.sleep_stage(mne_raw)\n",
    "    return yasa_raw\n",
    "\n",
    "mne_to_yasa(csv_to_mne('mock_df.csv'))\n",
    "\n"
   ]
  },
  {
   "cell_type": "code",
   "execution_count": 10,
   "metadata": {},
   "outputs": [
    {
     "ename": "NameError",
     "evalue": "name 'mne_to_yasa' is not defined",
     "output_type": "error",
     "traceback": [
      "\u001b[0;31m---------------------------------------------------------------------------\u001b[0m",
      "\u001b[0;31mNameError\u001b[0m                                 Traceback (most recent call last)",
      "Cell \u001b[0;32mIn[10], line 11\u001b[0m\n\u001b[1;32m      8\u001b[0m     stages \u001b[39m=\u001b[39m yasa_raw\u001b[39m.\u001b[39mto_stages()\n\u001b[1;32m      9\u001b[0m     \u001b[39mreturn\u001b[39;00m stages\n\u001b[0;32m---> 11\u001b[0m yasa_to_stages(mne_to_yasa(csv_to_mne(\u001b[39m'\u001b[39m\u001b[39mmock_df.csv\u001b[39m\u001b[39m'\u001b[39m)))\n",
      "\u001b[0;31mNameError\u001b[0m: name 'mne_to_yasa' is not defined"
     ]
    }
   ],
   "source": [
    "#categorize the yasa data into sleep stages\n",
    "\n",
    "#write code that categorizes the yasa data into sleep stages\n",
    "\n",
    "## write a function that categorizes the yasa data into sleep stages\n",
    "\n",
    "def yasa_to_stages(yasa_raw):\n",
    "    stages = yasa_raw.to_stages()\n",
    "    return stages\n",
    "\n",
    "yasa_to_stages(mne_to_yasa(csv_to_mne('mock_df.csv')))\n",
    "\n",
    "\n",
    "\n",
    "\n"
   ]
  }
 ],
 "metadata": {
  "kernelspec": {
   "display_name": "Python 3",
   "language": "python",
   "name": "python3"
  },
  "language_info": {
   "codemirror_mode": {
    "name": "ipython",
    "version": 3
   },
   "file_extension": ".py",
   "mimetype": "text/x-python",
   "name": "python",
   "nbconvert_exporter": "python",
   "pygments_lexer": "ipython3",
   "version": "3.10.4"
  },
  "orig_nbformat": 4
 },
 "nbformat": 4,
 "nbformat_minor": 2
}
